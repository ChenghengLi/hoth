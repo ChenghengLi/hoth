{
 "cells": [
  {
   "cell_type": "code",
   "execution_count": 6,
   "metadata": {},
   "outputs": [
    {
     "name": "stdout",
     "output_type": "stream",
     "text": [
      "[ObituaryItem(UID='5e1070f5-3b8e-4e88-93e7-1b68b9b3b8b4', name='James Smith', latitude=34.052235, longitude=-118.243683), ObituaryItem(UID='6a7f9082-e654-4a03-9f8e-2a3c24b6a9f7', name='Maria Garcia', latitude=34.098907, longitude=-118.327759), ObituaryItem(UID='7b8c9d13-5d7c-4edd-8f1b-3c2a1e0c9a8a', name='David Johnson', latitude=34.059761, longitude=-118.276802), ObituaryItem(UID='8c9daef4-6edf-4fda-a01f-4b3b0d1ca0bc', name='Linda Martinez', latitude=34.05223, longitude=-118.24368), ObituaryItem(UID='9daebc55-7f1e-4d5a-b2ff-5c4a2e1db0cd', name='Robert Williams', latitude=34.052239, longitude=-118.243398), ObituaryItem(UID='aebfc966-8f2f-4f6a-c3ee-6d5b3e2ec1de', name='Patricia Brown', latitude=34.05223, longitude=-118.24368), ObituaryItem(UID='bfc0da77-9f40-4f7b-d4dd-7e6c4e3fd2ef', name='Jennifer Jones', latitude=34.052239, longitude=-118.243398), ObituaryItem(UID='c0d1eb88-a051-5f8c-e5ee-8f7d5e4f03ff', name='Michael Miller', latitude=34.052235, longitude=-118.243683), ObituaryItem(UID='d1e2fc99-b162-6f9d-f6ff-9f8e6f5f14aa', name='Elizabeth Davis', latitude=34.098907, longitude=-118.327759), ObituaryItem(UID='e2f3gdaa-c273-7fae-g7gg-a1b9f7e625bb', name='William Rodriguez', latitude=34.059761, longitude=-118.276801)]\n",
      "5e1070f5-3b8e-4e88-93e7-1b68b9b3b8b4\n",
      "6a7f9082-e654-4a03-9f8e-2a3c24b6a9f7\n",
      "7b8c9d13-5d7c-4edd-8f1b-3c2a1e0c9a8a\n",
      "8c9daef4-6edf-4fda-a01f-4b3b0d1ca0bc\n",
      "9daebc55-7f1e-4d5a-b2ff-5c4a2e1db0cd\n",
      "aebfc966-8f2f-4f6a-c3ee-6d5b3e2ec1de\n",
      "bfc0da77-9f40-4f7b-d4dd-7e6c4e3fd2ef\n",
      "c0d1eb88-a051-5f8c-e5ee-8f7d5e4f03ff\n",
      "d1e2fc99-b162-6f9d-f6ff-9f8e6f5f14aa\n",
      "e2f3gdaa-c273-7fae-g7gg-a1b9f7e625bb\n"
     ]
    }
   ],
   "source": [
    "import os\n",
    "from api import ObituaryItem\n",
    "\n",
    "filename = \"obituaries.txt\"\n",
    "obituaries = []\n",
    "with open(filename, 'r') as file:\n",
    "    lines = file.readlines()\n",
    "    \n",
    "    for line in lines[1:]:  # Skip the header line\n",
    "        UID, name, latitude, longitude = line.strip().split(',')\n",
    "        obituary_item = ObituaryItem(\n",
    "            UID=UID,\n",
    "            name=name,\n",
    "            latitude=float(latitude),\n",
    "            longitude=float(longitude)\n",
    "        )\n",
    "        obituaries.append(obituary_item)\n",
    "\n"
   ]
  },
  {
   "cell_type": "code",
   "execution_count": 9,
   "metadata": {},
   "outputs": [
    {
     "name": "stdout",
     "output_type": "stream",
     "text": [
      "5e1070f5-3b8e-4e88-93e7-1b68b9b3b8b4\n",
      "6a7f9082-e654-4a03-9f8e-2a3c24b6a9f7\n",
      "7b8c9d13-5d7c-4edd-8f1b-3c2a1e0c9a8a\n",
      "8c9daef4-6edf-4fda-a01f-4b3b0d1ca0bc\n",
      "9daebc55-7f1e-4d5a-b2ff-5c4a2e1db0cd\n",
      "aebfc966-8f2f-4f6a-c3ee-6d5b3e2ec1de\n",
      "bfc0da77-9f40-4f7b-d4dd-7e6c4e3fd2ef\n",
      "c0d1eb88-a051-5f8c-e5ee-8f7d5e4f03ff\n",
      "d1e2fc99-b162-6f9d-f6ff-9f8e6f5f14aa\n",
      "e2f3gdaa-c273-7fae-g7gg-a1b9f7e625bb\n"
     ]
    }
   ],
   "source": [
    "import os\n",
    "import random\n",
    "\n",
    "# Function to generate a random note\n",
    "def generate_random_note():\n",
    "    note_length = random.randint(5, 20)  # Random length of the note\n",
    "    return ''.join(random.choices('abcdefghijklmnopqrstuvwxyz ', k=note_length))\n",
    "\n",
    "# Assuming 'obituaries' is your list of obituary objects\n",
    "for obituary in obituaries:\n",
    "    print(obituary.UID)\n",
    "    # Generate 8 random numbers\n",
    "    random_numbers = [str(random.randint(0, 3)) for _ in range(8)]\n",
    "    # Generate a random number of notes\n",
    "    number_of_notes = random.randint(1, 10)     # Random number of notes\n",
    "    notes_content = [generate_random_note() for _ in range(number_of_notes)]\n",
    "\n",
    "    # Define the file path\n",
    "    file_path = f\"obituary/{obituary.UID}.txt\"\n",
    "    \n",
    "    # Ensure the directory exists\n",
    "    os.makedirs(os.path.dirname(file_path), exist_ok=True)\n",
    "    \n",
    "    # Open the file for writing\n",
    "    with open(file_path, 'w') as file:\n",
    "        # Write the 8 random numbers separated by commas\n",
    "        file.write(','.join(random_numbers) + \"\\n\")\n",
    "        # Write the number of notes\n",
    "        file.write(f\"{number_of_notes}\\n\")\n",
    "        # Write each note on a new line\n",
    "        for note in notes_content:\n",
    "            file.write(note + \"\\n\")"
   ]
  },
  {
   "cell_type": "code",
   "execution_count": 13,
   "metadata": {},
   "outputs": [
    {
     "ename": "ImportError",
     "evalue": "cannot import name 'PersonItem' from 'api' (/Users/chenghengli/Desktop/hackathon/hoth/backend/app/api.py)",
     "output_type": "error",
     "traceback": [
      "\u001b[0;31m---------------------------------------------------------------------------\u001b[0m",
      "\u001b[0;31mImportError\u001b[0m                               Traceback (most recent call last)",
      "Cell \u001b[0;32mIn[13], line 1\u001b[0m\n\u001b[0;32m----> 1\u001b[0m \u001b[38;5;28;01mfrom\u001b[39;00m \u001b[38;5;21;01mapi\u001b[39;00m \u001b[38;5;28;01mimport\u001b[39;00m PersonItem\n\u001b[1;32m      3\u001b[0m \u001b[38;5;28;01mdef\u001b[39;00m \u001b[38;5;21mgetUserInfo\u001b[39m(filename):\n\u001b[1;32m      4\u001b[0m     current_dir \u001b[38;5;241m=\u001b[39m os\u001b[38;5;241m.\u001b[39mpath\u001b[38;5;241m.\u001b[39mdirname(\u001b[38;5;18m__file__\u001b[39m)\n",
      "\u001b[0;31mImportError\u001b[0m: cannot import name 'PersonItem' from 'api' (/Users/chenghengli/Desktop/hackathon/hoth/backend/app/api.py)"
     ]
    }
   ],
   "source": [
    "from api import PersonItem\n",
    "\n",
    "def getUserInfo(filename):\n",
    "    current_dir = os.path.dirname(__file__)\n",
    "    file_path = os.path.join(current_dir, \"obituary\", filename)\n",
    "    \n",
    "    with open(file_path, 'r') as file:\n",
    "        # Read the lines and filter out any that are just whitespace\n",
    "        lines = [line for line in file.readlines() if not line.isspace()]\n",
    "    \n",
    "    # Parse the random numbers for flowers as a list of integers\n",
    "    flowers = list(map(int, lines[0].strip().split(',')))\n",
    "    # Parse the number of notes\n",
    "    notes = int(lines[1].strip())\n",
    "    # Parse the list of notes, stripping any leading/trailing whitespace\n",
    "    list_notes = [note.strip() for note in lines[2:]]\n",
    "    \n",
    "    # Create an instance of PersonItem with the parsed data\n",
    "    obituary = PersonItem(flowers=flowers, notes=notes, list_notes=list_notes)\n",
    "    \n",
    "    return obituary\n",
    "\n",
    "getUserInfo(\"5e1070f5-3b8e-4e88-93e7-1b68b9b3b8b4\")"
   ]
  }
 ],
 "metadata": {
  "kernelspec": {
   "display_name": "Python 3",
   "language": "python",
   "name": "python3"
  },
  "language_info": {
   "codemirror_mode": {
    "name": "ipython",
    "version": 3
   },
   "file_extension": ".py",
   "mimetype": "text/x-python",
   "name": "python",
   "nbconvert_exporter": "python",
   "pygments_lexer": "ipython3",
   "version": "3.12.1"
  }
 },
 "nbformat": 4,
 "nbformat_minor": 2
}
